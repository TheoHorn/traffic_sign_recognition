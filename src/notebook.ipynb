{
 "cells": [
  {
   "cell_type": "markdown",
   "metadata": {},
   "source": [
    "### Recognition of traffic signs"
   ]
  },
  {
   "cell_type": "code",
   "execution_count": 47,
   "metadata": {},
   "outputs": [],
   "source": [
    "import torch\n",
    "import os\n",
    "\n",
    "# Paths and directories for the data\n",
    "current_directory = os.getcwd() \n",
    "current_directory = os.path.join(current_directory, '..')\n",
    "train_images_directory = os.path.join(current_directory, 'train', 'images')\n",
    "train_labels_directory = os.path.join(current_directory, 'train', 'labels')\n",
    "valid_images_directory = os.path.join(current_directory, 'valid', 'images')\n",
    "valid_labels_directory = os.path.join(current_directory, 'valid', 'labels')\n",
    "test_images_directory = os.path.join(current_directory, 'test', 'images')\n",
    "test_labels_directory = os.path.join(current_directory, 'test', 'labels')\n",
    "\n"
   ]
  },
  {
   "cell_type": "code",
   "execution_count": 48,
   "metadata": {},
   "outputs": [],
   "source": [
    "##Load images and labels\n",
    "def load_images_and_labels(images_directory, labels_directory):\n",
    "    images = []\n",
    "    labels = []\n",
    "\n",
    "    # Check if directories exist\n",
    "    if not os.path.exists(images_directory):\n",
    "        raise FileNotFoundError(f\"Image directory does not exist: {images_directory}\")\n",
    "    if not os.path.exists(labels_directory):\n",
    "        raise FileNotFoundError(f\"Label directory does not exist: {labels_directory}\")\n",
    "\n",
    "    # List all files in the images directory\n",
    "    for image_name in os.listdir(images_directory):\n",
    "        # Assuming the labels have the same filename as the images\n",
    "        image_path = os.path.join(images_directory, image_name)\n",
    "\n",
    "        # change the .jpg to .txt\n",
    "        image_name = image_name.replace('.jpg', '.txt')\n",
    "        label_path = os.path.join(labels_directory, image_name)\n",
    "\n",
    "        if not os.path.exists(image_path):\n",
    "            raise FileNotFoundError(f\"Image file not found: {image_path}\")\n",
    "        if not os.path.exists(label_path):\n",
    "            raise FileNotFoundError(f\"Label file not found: {label_path}\")\n",
    "\n",
    "        # Load the image and the corresponding label\n",
    "        with open(image_path, 'rb') as file:\n",
    "            image = file.read().splitlines()\n",
    "            images.append(image)\n",
    "\n",
    "        # Load the label (YOLOv8 format so keep only the first number)  \n",
    "        with open(label_path, 'r') as file:\n",
    "            lines = file.readlines()  # Read all lines \n",
    "            for line in lines:\n",
    "                label = line.split()[0]\n",
    "                labels.append(int(label))\n",
    "\n",
    "    return images, labels\n",
    "\n",
    "train_images, train_labels = load_images_and_labels(train_images_directory, train_labels_directory)\n",
    "valid_images, valid_labels = load_images_and_labels(valid_images_directory, valid_labels_directory)\n",
    "test_images, test_labels = load_images_and_labels(test_images_directory, test_labels_directory)"
   ]
  },
  {
   "cell_type": "code",
   "execution_count": 49,
   "metadata": {},
   "outputs": [
    {
     "name": "stdout",
     "output_type": "stream",
     "text": [
      "Number of classes: 264\n",
      "Number of training images: 1314\n"
     ]
    }
   ],
   "source": [
    "# Find the number of classes\n",
    "set_of_classes = set(train_labels + valid_labels + test_labels)\n",
    "\n",
    "print('Number of classes:', len(set_of_classes))\n",
    "print('Number of training images:', len(train_images))"
   ]
  },
  {
   "cell_type": "code",
   "execution_count": 53,
   "metadata": {},
   "outputs": [
    {
     "data": {
      "text/plain": [
       "<Axes: ylabel='Count'>"
      ]
     },
     "execution_count": 53,
     "metadata": {},
     "output_type": "execute_result"
    },
    {
     "data": {
      "image/png": "[encoded data removed]",
      "text/plain": [
       "<Figure size 640x480 with 1 Axes>"
      ]
     },
     "metadata": {},
     "output_type": "display_data"
    }
   ],
   "source": [
    "import seaborn as sns\n",
    "\n",
    "# Plot the distribution of the classes\n",
    "sns.histplot(train_labels, y=None, bins=264, discrete=True)"
   ]
  }
 ],
 "metadata": {
  "kernelspec": {
   "display_name": "Python 3",
   "language": "python",
   "name": "python3"
  },
  "language_info": {
   "codemirror_mode": {
    "name": "ipython",
    "version": 3
   },
   "file_extension": ".py",
   "mimetype": "text/x-python",
   "name": "python",
   "nbconvert_exporter": "python",
   "pygments_lexer": "ipython3",
   "version": "3.10.11"
  }
 },
 "nbformat": 4,
 "nbformat_minor": 2
}
